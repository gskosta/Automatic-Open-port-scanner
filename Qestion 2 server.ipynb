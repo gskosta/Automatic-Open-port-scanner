{
 "cells": [
  {
   "cell_type": "markdown",
   "metadata": {},
   "source": [
    "### 2. implement code for server(ip address 192.15.15.15 port address 23456). the server side script accepts connection from client and receive an IP address(of target). Further the server application will execute port scan on the target with received ip address."
   ]
  },
  {
   "cell_type": "markdown",
   "metadata": {},
   "source": [
    "##  <div align=\"center\">Server Side</div>"
   ]
  },
  {
   "cell_type": "code",
   "execution_count": 10,
   "metadata": {},
   "outputs": [],
   "source": [
    "import socket\n",
    "import threading\n",
    "from queue import Queue\n",
    "from datetime import datetime"
   ]
  },
  {
   "cell_type": "code",
   "execution_count": 11,
   "metadata": {},
   "outputs": [],
   "source": [
    "HOST = '127.0.0.2'\n",
    "PORT = 65432\n",
    "soc = socket.socket(socket.AF_INET, socket.SOCK_STREAM)\n",
    "soc.bind((HOST, PORT))\n",
    "soc.listen()\n",
    "conn, addr = soc.accept()"
   ]
  },
  {
   "cell_type": "code",
   "execution_count": 12,
   "metadata": {},
   "outputs": [],
   "source": [
    "prilok= threading.Lock()\n",
    "target = addr\n",
    "\n",
    "def portscan(port):\n",
    "    soc = socket.socket(socket.AF_INET, socket.SOCK_STREAM)\n",
    "    try:\n",
    "        con = soc.connect(addr)\n",
    "        with prilok:\n",
    "            print('Port', port, 'is open')\n",
    "        con.close()\n",
    "    except:\n",
    "        pass"
   ]
  },
  {
   "cell_type": "code",
   "execution_count": 13,
   "metadata": {},
   "outputs": [
    {
     "name": "stdout",
     "output_type": "stream",
     "text": [
      "---------------------------------------------------------------------------------\n",
      "           Please wait, scanning is going on for host   ('127.0.0.1', 42580)\n",
      "---------------------------------------------------------------------------------\n",
      "Port 5689 is open\n",
      "Port 19792 is open\n",
      "Port 33894 is open\n",
      "Port 47998 is open\n",
      "Port 62096 is open\n",
      "Port 76204 is open\n",
      "Port 90332 is open\n",
      "Scanning Completed in:  0:00:23.069384\n"
     ]
    }
   ],
   "source": [
    "\n",
    "print(\"---------------------------------------------------------------------------------\")\n",
    "print(\"           Please wait, scanning is going on for host  \",addr )\n",
    "print(\"---------------------------------------------------------------------------------\")\n",
    "\n",
    "    \n",
    "t1 = datetime.now()\n",
    "\n",
    "def threader():\n",
    "    while True:\n",
    "        worker = q.get()\n",
    "        portscan(worker)\n",
    "        q.task_done()\n",
    "\n",
    "q = Queue()\n",
    "\n",
    "for x in range(1024):\n",
    "    t = threading.Thread(target=threader)\n",
    "    t.deamon = True\n",
    "    t.start()\n",
    "for worker in range(1,100000):\n",
    "    q.put(worker)\n",
    "q.join()\n",
    "\n",
    "t2 = datetime.now()\n",
    "total =  t2 - t1\n",
    "\n",
    "print ('Scanning Completed in: ', total)"
   ]
  },
  {
   "cell_type": "markdown",
   "metadata": {},
   "source": [
    "."
   ]
  },
  {
   "cell_type": "markdown",
   "metadata": {},
   "source": [
    "."
   ]
  }
 ],
 "metadata": {
  "kernelspec": {
   "display_name": "Python 3",
   "language": "python",
   "name": "python3"
  },
  "language_info": {
   "codemirror_mode": {
    "name": "ipython",
    "version": 3
   },
   "file_extension": ".py",
   "mimetype": "text/x-python",
   "name": "python",
   "nbconvert_exporter": "python",
   "pygments_lexer": "ipython3",
   "version": "3.7.6"
  }
 },
 "nbformat": 4,
 "nbformat_minor": 2
}
